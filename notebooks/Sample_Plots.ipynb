{
 "cells": [
  {
   "cell_type": "code",
   "execution_count": null,
   "metadata": {},
   "outputs": [],
   "source": [
    "import plotly.express as px\n",
    "import numpy as np\n",
    "import pandas as pd\n",
    "\n",
    "import matplotlib.pyplot as plt \n",
    "\n",
    "from urllib.request import urlopen\n",
    "import json\n",
    "\n",
    "import geopandas\n",
    "import ast\n",
    "\n",
    "import sys\n",
    "sys.path.append('../src/')\n",
    "\n",
    "from utils.ckm_plotting import plot_rt, gen_dropdown\n",
    "\n",
    "%load_ext autoreload\n",
    "%autoreload 2\n",
    "%matplotlib inline"
   ]
  },
  {
   "cell_type": "code",
   "execution_count": null,
   "metadata": {},
   "outputs": [],
   "source": [
    "from plotly.offline import iplot"
   ]
  },
  {
   "cell_type": "code",
   "execution_count": null,
   "metadata": {},
   "outputs": [],
   "source": [
    "RT_DATA = '../../DATA/rt_county/rt_county.csv'"
   ]
  },
  {
   "cell_type": "code",
   "execution_count": null,
   "metadata": {},
   "outputs": [],
   "source": [
    "rt_county_df = pd.read_csv(RT_DATA)\n",
    "rt_county_df['countyFIPS'] = rt_county_df['countyFIPS'].apply(lambda x: f\"{x:05d}\")\n",
    "#rt_county_df['date'] = pd.to_datetime(rt_county_df['date'])\n",
    "rt_county_df.tail()"
   ]
  },
  {
   "cell_type": "code",
   "execution_count": null,
   "metadata": {},
   "outputs": [],
   "source": [
    "rt_county_df['stateFIPS'] = rt_county_df['countyFIPS'].apply(lambda x: x[:2])\n",
    "state_map = rt_county_df[['stateFIPS','state']].drop_duplicates().set_index('stateFIPS').to_dict()['state']"
   ]
  },
  {
   "cell_type": "code",
   "execution_count": null,
   "metadata": {},
   "outputs": [],
   "source": [
    "# with urlopen('https://raw.githubusercontent.com/plotly/datasets/master/geojson-counties-fips.json') as response:\n",
    "# with open('../../DATA/geojsons/18.json') as response:\n",
    "#     counties = json.load(response)\n",
    "    \n",
    "county_geojson_df = geopandas.read_file('https://raw.githubusercontent.com/plotly/datasets/master/geojson-counties-fips.json')\n",
    "county_geojson_df['STATE_NAME'] = county_geojson_df['STATE'].map(state_map)\n",
    "county_geojson_df.head()"
   ]
  },
  {
   "cell_type": "markdown",
   "metadata": {},
   "source": [
    "# RT Animation (by State)"
   ]
  },
  {
   "cell_type": "code",
   "execution_count": null,
   "metadata": {},
   "outputs": [],
   "source": [
    "SAMPLE_FREQUENCY = 3# in days\n",
    "DATE_SUBSET = [date for i, date in enumerate(np.sort(rt_county_df.date.unique().tolist())) if i%SAMPLE_FREQUENCY==0]"
   ]
  },
  {
   "cell_type": "code",
   "execution_count": null,
   "metadata": {},
   "outputs": [],
   "source": [
    "def animate_state(data_df=rt_county_df,\n",
    "                  geojson_df=county_geojson_df,\n",
    "                  state='NY',\n",
    "                  date_list=DATE_SUBSET,\n",
    "                 ):\n",
    "   \n",
    "    rt_county_df_subset = rt_county_df[rt_county_df.date.isin(DATE_SUBSET)]\n",
    "    geojson_subset = county_geojson_df[county_geojson_df.STATE_NAME==state]\n",
    "    state_df = rt_county_df_subset[rt_county_df_subset['state']==state]\n",
    "\n",
    "    fig = px.choropleth(\n",
    "        data_frame=state_df, \n",
    "        #geojson=counties, \n",
    "        geojson=ast.literal_eval(geojson_subset.to_json()), \n",
    "        locations='countyFIPS', \n",
    "        color='mean',\n",
    "        color_continuous_scale=\"Bluered\",\n",
    "        animation_frame='date',\n",
    "        range_color=(0.2, 2),\n",
    "        hover_name='region',\n",
    "        labels={'mean':'R_t (mean)'},\n",
    "        featureidkey=\"properties.id\",\n",
    "    )\n",
    "\n",
    "    fig.update_geos(fitbounds=\"locations\", visible=False)\n",
    "    fig.update_layout(margin={\"r\":0,\"t\":0,\"l\":0,\"b\":0})\n",
    "\n",
    "    return fig"
   ]
  },
  {
   "cell_type": "code",
   "execution_count": null,
   "metadata": {},
   "outputs": [],
   "source": [
    "fig = animate_state(state='NY')\n",
    "fig.show()"
   ]
  },
  {
   "cell_type": "markdown",
   "metadata": {},
   "source": [
    "# RT Dropdowns"
   ]
  },
  {
   "cell_type": "code",
   "execution_count": null,
   "metadata": {},
   "outputs": [],
   "source": [
    "## SNAPSHOT AT A DATE\n",
    "rt_county_df_subset = rt_county_df[rt_county_df.date==rt_county_df.date.max()]\n",
    "\n",
    "STATE_LIST = np.sort(county_geojson_df.STATE_NAME.dropna().unique().tolist())\n",
    "# STATE_LIST = [\"NY\",\"NJ\",\"PA\",\"FL\", \"AL\"]\n",
    "\n",
    "data = []\n",
    "buttons_list = []\n",
    "\n",
    "fig_dict = {}\n",
    "\n",
    "for i, state in enumerate(STATE_LIST):\n",
    "    \n",
    "    geojson_subset = county_geojson_df[county_geojson_df.STATE_NAME==state]\n",
    "    state_df = rt_county_df_subset[rt_county_df_subset['state']==state]\n",
    "    \n",
    "    fig = px.choropleth(\n",
    "        data_frame=state_df, \n",
    "        #geojson=counties, \n",
    "        geojson=ast.literal_eval(geojson_subset.to_json()), \n",
    "        locations='countyFIPS', \n",
    "        color='mean',\n",
    "        color_continuous_scale=\"Bluered\",\n",
    "        range_color=(0.2, 2),\n",
    "        hover_name='region',\n",
    "        labels={'mean':'R_t (mean)'},\n",
    "        featureidkey=\"properties.id\",\n",
    "    )\n",
    "    \n",
    "    \n",
    "    visible_list = [False]*len(STATE_LIST)\n",
    "    visible_list[i] = True\n",
    "    buttons_list.append(\n",
    "        dict(label = state,\n",
    "             method = 'update',\n",
    "             args = [{'visible': visible_list},\n",
    "                     {'title': f'{state} R(t) values'}\n",
    "                    ]\n",
    "            )        \n",
    "    )\n",
    "\n",
    "    fig_dict[state] = fig\n",
    "\n",
    "    \n",
    "fig_dropdown = gen_dropdown(\n",
    "    figure_list=[sub_fig.to_plotly_json() for k,sub_fig in fig_dict.items()],\n",
    "    button_labels=[k for k,v in fig_dict.items()],\n",
    ")\n",
    "\n",
    "\n",
    "data = fig_dropdown.to_plotly_json()['data']\n",
    "\n",
    "\n",
    "\n",
    "updatemenus = list([\n",
    "    dict(active=0,\n",
    "         buttons=buttons_list,       \n",
    "    )\n",
    "])\n",
    "\n",
    "layout = dict(\n",
    "        title='Tracking R(t) values', \n",
    "        showlegend=False,\n",
    "        updatemenus=updatemenus,\n",
    "        geo = dict(\n",
    "            fitbounds='locations',\n",
    "            visible=False\n",
    "              ),\n",
    "        coloraxis = dict(\n",
    "            cmin=0.2,\n",
    "            cmax=2,\n",
    "            colorscale=[[0.0, 'rgb(0,0,255)'], [1.0, 'rgb(255,0,0)']],\n",
    "    )\n",
    ")\n",
    "\n",
    "fig_dropdown = dict( data=data, layout=layout )\n",
    "iplot(fig_dropdown)"
   ]
  },
  {
   "cell_type": "markdown",
   "metadata": {},
   "source": [
    "# RT Trends"
   ]
  },
  {
   "cell_type": "code",
   "execution_count": null,
   "metadata": {},
   "outputs": [],
   "source": [
    "subset_df = rt_county_df[rt_county_df.state=='NY']\n",
    "\n",
    "ncols = np.min([4, subset_df.region.nunique()])\n",
    "nrows = int(np.ceil(subset_df.region.nunique() / ncols))\n",
    "\n",
    "fig, axes = plt.subplots(\n",
    "    nrows=nrows,\n",
    "    ncols=ncols,\n",
    "    figsize=(14, nrows*3),\n",
    "    sharey='row')\n",
    "\n",
    "for ax, (county_state, result) in zip(axes.flat, subset_df.groupby('region')):\n",
    "    plot_rt(county_state, result, ax)\n",
    "\n",
    "fig.tight_layout()\n",
    "fig.set_facecolor('w')"
   ]
  },
  {
   "cell_type": "code",
   "execution_count": null,
   "metadata": {},
   "outputs": [],
   "source": []
  }
 ],
 "metadata": {
  "kernelspec": {
   "display_name": "Python 3",
   "language": "python",
   "name": "python3"
  },
  "language_info": {
   "codemirror_mode": {
    "name": "ipython",
    "version": 3
   },
   "file_extension": ".py",
   "mimetype": "text/x-python",
   "name": "python",
   "nbconvert_exporter": "python",
   "pygments_lexer": "ipython3",
   "version": "3.6.10"
  },
  "toc": {
   "nav_menu": {},
   "number_sections": true,
   "sideBar": true,
   "skip_h1_title": false,
   "title_cell": "Table of Contents",
   "title_sidebar": "Contents",
   "toc_cell": false,
   "toc_position": {},
   "toc_section_display": true,
   "toc_window_display": false
  }
 },
 "nbformat": 4,
 "nbformat_minor": 4
}
