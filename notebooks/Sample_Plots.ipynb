{
 "cells": [
  {
   "cell_type": "code",
   "execution_count": null,
   "metadata": {},
   "outputs": [],
   "source": [
    "import plotly.express as px\n",
    "import numpy as np\n",
    "import pandas as pd\n",
    "\n",
    "import matplotlib.pyplot as plt \n",
    "\n",
    "from urllib.request import urlopen\n",
    "import json\n",
    "\n",
    "import geopandas\n",
    "import ast\n",
    "\n",
    "import sys\n",
    "sys.path.append('../src/')\n",
    "\n",
    "from utils.ckm_plotting import plot_rt, gen_dropdown\n",
    "from utils.state_abbreviations import state_abbr_map, state_abbr_map_r\n",
    "from generate_rt import create_case_pop_df\n",
    "\n",
    "%load_ext autoreload\n",
    "%autoreload 2\n",
    "%matplotlib inline"
   ]
  },
  {
   "cell_type": "code",
   "execution_count": null,
   "metadata": {},
   "outputs": [],
   "source": [
    "from plotly.subplots import make_subplots\n",
    "import plotly.graph_objects as go\n",
    "\n",
    "from plotly.offline import iplot"
   ]
  },
  {
   "cell_type": "code",
   "execution_count": null,
   "metadata": {},
   "outputs": [],
   "source": [
    "RT_COUNTY_DATA = '../../DATA/rt_county/rt_county.csv'\n",
    "RT_STATE_DATA = '../../DATA/rt_state/rt_state.csv'"
   ]
  },
  {
   "cell_type": "code",
   "execution_count": null,
   "metadata": {},
   "outputs": [],
   "source": [
    "rt_county_df = pd.read_csv(RT_COUNTY_DATA)\n",
    "rt_county_df['countyFIPS'] = rt_county_df['countyFIPS'].apply(lambda x: f\"{x:05d}\")\n",
    "rt_county_df.tail()"
   ]
  },
  {
   "cell_type": "code",
   "execution_count": null,
   "metadata": {},
   "outputs": [],
   "source": [
    "rt_county_df['stateFIPS'] = rt_county_df['countyFIPS'].apply(lambda x: x[:2])\n",
    "state_fips_map = rt_county_df[['stateFIPS','state']].drop_duplicates().set_index('stateFIPS').to_dict()['state']\n",
    "state_fips_map_r = {v:k for k,v in state_fips_map.items()}"
   ]
  },
  {
   "cell_type": "code",
   "execution_count": null,
   "metadata": {},
   "outputs": [],
   "source": [
    "rt_state_df = pd.read_csv(RT_STATE_DATA)\n",
    "rt_state_df['state'] = rt_state_df.region.map(state_abbr_map)\n",
    "rt_state_df['stateFIPS'] = rt_state_df.state.map(state_fips_map_r)\n",
    "rt_state_df.tail()"
   ]
  },
  {
   "cell_type": "code",
   "execution_count": null,
   "metadata": {},
   "outputs": [],
   "source": [
    "county_geojson_df = geopandas.read_file('https://raw.githubusercontent.com/plotly/datasets/master/geojson-counties-fips.json')\n",
    "county_geojson_df['STATE_NAME'] = county_geojson_df['STATE'].map(state_fips_map)\n",
    "# county_geojson_df = county_geojson_df.rename(columns={'id':'countyFIPS'})\n",
    "county_geojson_df.tail()"
   ]
  },
  {
   "cell_type": "code",
   "execution_count": null,
   "metadata": {},
   "outputs": [],
   "source": [
    "# state_geojson_df = geopandas.read_file('https://eric.clst.org/assets/wiki/uploads/Stuff/gz_2010_us_outline_500k.json')\n",
    "state_geojson_df = geopandas.read_file('../../DATA/geojsons/state_geojsons/cb_2018_us_state_20m.shp')\n",
    "state_geojson_df.head()"
   ]
  },
  {
   "cell_type": "markdown",
   "metadata": {},
   "source": [
    "# RT Animation (Country Wide)"
   ]
  },
  {
   "cell_type": "code",
   "execution_count": null,
   "metadata": {},
   "outputs": [],
   "source": [
    "SAMPLE_FREQUENCY = 7# in days\n",
    "DATE_SUBSET = [date for i, date in enumerate(np.sort(rt_county_df.date.unique().tolist())) if i%SAMPLE_FREQUENCY==0]"
   ]
  },
  {
   "cell_type": "code",
   "execution_count": null,
   "metadata": {},
   "outputs": [],
   "source": [
    "disp_col = 'median'\n",
    "fig = px.choropleth(\n",
    "    data_frame=rt_state_df[rt_state_df.date.isin(DATE_SUBSET)], \n",
    "    #geojson=counties, \n",
    "    geojson=ast.literal_eval(state_geojson_df.to_json()), \n",
    "    locations='stateFIPS', \n",
    "    color=disp_col,\n",
    "    color_continuous_scale=[[0., 'rgb(0,255,0)'], [1.0, 'rgb(50,50,50)']],\n",
    "    animation_frame='date',\n",
    "    range_color=(rt_state_df[disp_col].quantile(q=0.05), rt_state_df[disp_col].quantile(q=0.95)),\n",
    "    hover_name='region',\n",
    "    labels={disp_col: f'R_t ({disp_col})'},\n",
    "    featureidkey=\"properties.GEOID\",\n",
    "    scope='usa'\n",
    ")\n",
    "\n",
    "fig.show()"
   ]
  },
  {
   "cell_type": "code",
   "execution_count": null,
   "metadata": {},
   "outputs": [],
   "source": [
    "disp_col = 'mean'\n",
    "\n",
    "fig = px.choropleth(\n",
    "    data_frame=rt_county_df[rt_county_df.date.isin(DATE_SUBSET)], \n",
    "    geojson=ast.literal_eval(county_geojson_df.dropna(subset=['STATE_NAME']).to_json()), \n",
    "    locations='countyFIPS', \n",
    "    color=disp_col,\n",
    "    color_continuous_scale=[[0., 'rgb(0,255,0)'], [1.0, 'rgb(50,50,50)']],\n",
    "    animation_frame='date',\n",
    "    range_color=(rt_state_df[disp_col].quantile(q=0.05), rt_state_df[disp_col].quantile(q=0.95)),\n",
    "    hover_name='region',\n",
    "    labels={disp_col: f'R_t ({disp_col})'},\n",
    "    featureidkey=\"properties.id\",\n",
    "    scope='usa'\n",
    ")\n",
    "\n",
    "# fig.update_geos(fitbounds=\"locations\", visible=False)\n",
    "fig.update_layout(margin={\"r\":0,\"t\":0,\"l\":0,\"b\":0})\n",
    "\n",
    "fig.show()"
   ]
  },
  {
   "cell_type": "code",
   "execution_count": null,
   "metadata": {},
   "outputs": [],
   "source": [
    "for state in county_geojson_df['STATE_NAME'].unique().tolist():\n",
    "    try:\n",
    "        print (f'{state} : SUCCESS')\n",
    "        ast.literal_eval(county_geojson_df[county_geojson_df['STATE_NAME']==state].to_json())\n",
    "    except:\n",
    "        print (f'{state} : FAIL')\n"
   ]
  },
  {
   "cell_type": "code",
   "execution_count": null,
   "metadata": {},
   "outputs": [],
   "source": [
    "rt_county_df[rt_county_df.date.isin(DATE_SUBSET)]"
   ]
  },
  {
   "cell_type": "markdown",
   "metadata": {},
   "source": [
    "# RT Animation (by State)"
   ]
  },
  {
   "cell_type": "code",
   "execution_count": null,
   "metadata": {},
   "outputs": [],
   "source": [
    "def animate_state(data_df=rt_county_df,\n",
    "                  geojson_df=county_geojson_df,\n",
    "                  date_list=DATE_SUBSET,\n",
    "                  state='NY',\n",
    "                  data_filter_col='state',\n",
    "                  geo_filter_col='STATE_NAME',\n",
    "                  disp_col='mean',\n",
    "                  date_col='date',\n",
    "                  featureidkey='properties.id',\n",
    "                  locations='countyFIPS'\n",
    "                 ):\n",
    "   \n",
    "    state_df_subset = data_df[data_df[date_col].isin(DATE_SUBSET)]\n",
    "    #geojson_subset = geojson_df[geojson_df[geo_filter_col]==state]\n",
    "    state_df = state_df_subset[state_df_subset[data_filter_col]==state]\n",
    "\n",
    "    fig = px.choropleth(\n",
    "        data_frame=state_df, \n",
    "        geojson=ast.literal_eval(geojson_df.to_json()), \n",
    "#         geojson=ast.literal_eval(geojson_subset.to_json()), \n",
    "        locations=locations, \n",
    "        color=disp_col,\n",
    "        color_continuous_scale=[[0., 'rgb(0,255,0)'], [1.0, 'rgb(0,0,0)']],\n",
    "        animation_frame=date_col,\n",
    "        range_color=(state_df_subset[disp_col].quantile(0.05), \n",
    "                     state_df_subset[disp_col].quantile(0.95)),\n",
    "        hover_name='region',\n",
    "        labels={disp_col:f'R_t ({disp_col})'},\n",
    "        featureidkey=featureidkey,\n",
    "    )\n",
    "\n",
    "    fig.update_geos(fitbounds=\"locations\", visible=False)\n",
    "    fig.update_layout(margin={\"r\":0,\"t\":0,\"l\":0,\"b\":0})\n",
    "\n",
    "    return fig"
   ]
  },
  {
   "cell_type": "code",
   "execution_count": null,
   "metadata": {},
   "outputs": [],
   "source": [
    "fig = animate_state(state='TX', \n",
    "                    data_df=rt_county_df,\n",
    "                    geojson_df=county_geojson_df.dropna(subset=['STATE_NAME']),\n",
    "                    date_list=DATE_SUBSET,\n",
    "                    disp_col='mean'\n",
    "                  )\n",
    "fig.show()"
   ]
  },
  {
   "cell_type": "code",
   "execution_count": null,
   "metadata": {},
   "outputs": [],
   "source": [
    "fig = animate_state(state='TX', \n",
    "                    data_df=rt_state_df,\n",
    "                    geojson_df=state_geojson_df,#.dropna(subset=['STATE_NAME']),\n",
    "                    date_list=DATE_SUBSET,\n",
    "                    disp_col='mean',\n",
    "                    featureidkey='properties.GEOID',\n",
    "                    locations='stateFIPS'\n",
    "                  )\n",
    "fig.show()"
   ]
  },
  {
   "cell_type": "markdown",
   "metadata": {},
   "source": [
    "# RT Dropdowns"
   ]
  },
  {
   "cell_type": "code",
   "execution_count": null,
   "metadata": {},
   "outputs": [],
   "source": [
    "## SNAPSHOT AT A DATE\n",
    "rt_county_df_subset = rt_county_df[rt_county_df.date==rt_county_df.date.max()]\n",
    "\n",
    "STATE_LIST = np.sort(county_geojson_df.STATE_NAME.dropna().unique().tolist())\n",
    "# STATE_LIST = [\"NY\",\"NJ\",\"PA\",\"FL\", \"AL\"]\n",
    "\n",
    "data = []\n",
    "buttons_list = []\n",
    "\n",
    "fig_dict = {}\n",
    "\n",
    "for i, state in enumerate(STATE_LIST):\n",
    "    \n",
    "    geojson_subset = county_geojson_df[county_geojson_df.STATE_NAME==state]\n",
    "    state_df = rt_county_df_subset[rt_county_df_subset['state']==state]\n",
    "    \n",
    "    fig = px.choropleth(\n",
    "        data_frame=state_df, \n",
    "        #geojson=counties, \n",
    "        geojson=ast.literal_eval(geojson_subset.to_json()), \n",
    "        locations='countyFIPS', \n",
    "        color='mean',\n",
    "#         color_continuous_scale=\"Bluered\",\n",
    "        color_continuous_scale=[[0., 'rgb(0,255,0)'], [1.0, 'rgb(0,0,0)']],\n",
    "        range_color=(0.2, 2),\n",
    "        hover_name='region',\n",
    "        labels={'mean':'R_t (mean)'},\n",
    "        featureidkey=\"properties.id\",\n",
    "    )\n",
    "    \n",
    "    \n",
    "    visible_list = [False]*len(STATE_LIST)\n",
    "    visible_list[i] = True\n",
    "    buttons_list.append(\n",
    "        dict(label = state,\n",
    "             method = 'update',\n",
    "             args = [{'visible': visible_list},\n",
    "                     {'title': f'{state} R(t) values'}\n",
    "                    ]\n",
    "            )        \n",
    "    )\n",
    "\n",
    "    fig_dict[state] = fig\n",
    "\n",
    "    \n",
    "fig_dropdown = gen_dropdown(\n",
    "    figure_list=[sub_fig.to_plotly_json() for k,sub_fig in fig_dict.items()],\n",
    "    button_labels=[k for k,v in fig_dict.items()],\n",
    ")\n",
    "\n",
    "\n",
    "data = fig_dropdown.to_plotly_json()['data']\n",
    "\n",
    "\n",
    "\n",
    "updatemenus = list([\n",
    "    dict(active=0,\n",
    "         buttons=buttons_list,       \n",
    "    )\n",
    "])\n",
    "\n",
    "layout = dict(\n",
    "        title='Tracking R(t) values', \n",
    "        showlegend=False,\n",
    "        updatemenus=updatemenus,\n",
    "        geo = dict(\n",
    "            fitbounds='locations',\n",
    "            visible=False\n",
    "              ),\n",
    "        coloraxis = dict(\n",
    "            cmin=0.2,\n",
    "            cmax=2,\n",
    "            colorscale=[[0.0, 'rgb(0,0,255)'], [1.0, 'rgb(255,0,0)']],\n",
    "    )\n",
    ")\n",
    "\n",
    "fig_dropdown = dict( data=data, layout=layout )\n",
    "iplot(fig_dropdown)"
   ]
  },
  {
   "cell_type": "markdown",
   "metadata": {},
   "source": [
    "# RT Trends"
   ]
  },
  {
   "cell_type": "code",
   "execution_count": null,
   "metadata": {
    "scrolled": true
   },
   "outputs": [],
   "source": [
    "subset_df = rt_county_df[rt_county_df.state=='AL']\n",
    "\n",
    "ncols = np.min([4, subset_df.region.nunique()])\n",
    "nrows = int(np.ceil(subset_df.region.nunique() / ncols))\n",
    "\n",
    "fig, axes = plt.subplots(\n",
    "    nrows=nrows,\n",
    "    ncols=ncols,\n",
    "    figsize=(14, nrows*3),\n",
    "    sharey='row')\n",
    "\n",
    "for ax, (county_state, result) in zip(axes.flat, subset_df.groupby('region')):\n",
    "    plot_rt(county_state, result, ax)\n",
    "\n",
    "fig.tight_layout()\n",
    "fig.set_facecolor('w')"
   ]
  },
  {
   "cell_type": "markdown",
   "metadata": {},
   "source": [
    "# RT Snapshot"
   ]
  },
  {
   "cell_type": "code",
   "execution_count": null,
   "metadata": {},
   "outputs": [],
   "source": [
    "def rt_live_error_plot(rt_df=rt_county_df, \n",
    "                       filter_column='state', \n",
    "                       filter_field='NY',\n",
    "                       height=800,\n",
    "                       width=800\n",
    "                      ):\n",
    "\n",
    "    subset_df = rt_df[rt_df[filter_column]==filter_field]\n",
    "\n",
    "    subset_df.loc[:, 'error_y_plus'] = subset_df['upper_90'] - subset_df['mean']\n",
    "    subset_df.loc[:,'error_y_minus'] = subset_df['mean'] - subset_df['lower_90']\n",
    "    subset_df.loc[:,'color'] = (subset_df['mean'] >= 1).map({True: 'High Risk', False: 'Low/Moderate Risk'})\n",
    "    fig = px.scatter(\n",
    "        data_frame=subset_df.loc[subset_df.date == subset_df.date.max(), :].sort_values('mean'),\n",
    "        y='region',\n",
    "        x='mean',\n",
    "        error_x='error_y_plus',\n",
    "        error_x_minus='error_y_minus',\n",
    "        color='color',\n",
    "        hover_name='region',\n",
    "        width=width,\n",
    "        height=height\n",
    "    )\n",
    "    \n",
    "    return fig"
   ]
  },
  {
   "cell_type": "code",
   "execution_count": null,
   "metadata": {},
   "outputs": [],
   "source": [
    "rt_live_error_plot(filter_field='NY')"
   ]
  },
  {
   "cell_type": "markdown",
   "metadata": {},
   "source": [
    "# RT Dashboard"
   ]
  },
  {
   "cell_type": "code",
   "execution_count": null,
   "metadata": {
    "scrolled": true
   },
   "outputs": [],
   "source": [
    "test_df = rt_county_df[rt_county_df['countyFIPS']=='36047']\n",
    "test_df"
   ]
  },
  {
   "cell_type": "code",
   "execution_count": null,
   "metadata": {},
   "outputs": [],
   "source": [
    "#test_df = rt_county_df[rt_county_df['countyFIPS']=='36047']\n",
    "test_df = test_df2[test_df2['region']=='Albany County NEW YORK']\n",
    "\n",
    "test_df = test_df.sort_values('date')\n",
    "\n",
    "fig = make_subplots(\n",
    "    rows=3,\n",
    "    cols=3,\n",
    "    specs=[[{'type':'indicator'}, {'type':'indicator'}, {'type':'indicator'}],\n",
    "           [{'colspan':3, 'rowspan':2,'type':'xy'}, None,None],\n",
    "            [None, None,None]],\n",
    "    subplot_titles=(\n",
    "        r\"$\\text{R}_t$\",\n",
    "        r\"$\\text{Change}$\",\n",
    "        r\"$\\text{Risk}$\", \n",
    "        (test_df.region.tolist()[0])\n",
    "    )\n",
    ")\n",
    "\n",
    "fig.add_trace(go.Scatter(\n",
    "    x=test_df['date'].tolist(), \n",
    "    y=test_df['lower_90'].tolist(),\n",
    "    fill=None,\n",
    "    mode='lines',\n",
    "    fillcolor='rgba(0,255,0,0.1)',\n",
    "    name='lower_90',\n",
    "    line_color='rgba(0,255,0,0.1)',\n",
    "    ),\n",
    "    row=2,\n",
    "    col=1\n",
    ")\n",
    "fig.add_trace(go.Scatter(\n",
    "    x=test_df['date'].tolist(), \n",
    "    y=test_df['upper_90'].tolist(),\n",
    "    fill='tonexty', # fill area between trace0 and trace1\n",
    "    mode='lines', \n",
    "    fillcolor='rgba(0,255,0,0.1)',\n",
    "    name='upper_90',\n",
    "    line_color='rgba(0,255,0,0.1)',\n",
    "    ),\n",
    "    row=2,\n",
    "    col=1\n",
    ")\n",
    "\n",
    "fig.add_trace(go.Scatter(\n",
    "    x=test_df['date'].tolist(), \n",
    "    y=test_df['mean'].tolist(),\n",
    "#     fill='tonexty', # fill area between trace0 and trace1\n",
    "    mode='markers+lines', \n",
    "    fillcolor='rgba(0,255,0,0.1)',\n",
    "    name='mean',\n",
    "    line_color='gray'\n",
    "    ),\n",
    "    row=2,\n",
    "    col=1\n",
    ")\n",
    "\n",
    "\n",
    "fig.add_trace(go.Indicator(\n",
    "    mode = \"number\",\n",
    "    value = test_df['mean'].tolist()[-1],\n",
    "    number={\n",
    "        'valueformat':'0.3f',\n",
    "        'font':{\n",
    "            'color': '#3D9970' if (test_df['mean'].tolist()[-1] <1) else '#FF4136',\n",
    "            'size' : 22\n",
    "        }\n",
    "    }\n",
    "    ),\n",
    "    row=1,\n",
    "    col=1\n",
    ")\n",
    "\n",
    "fig.add_trace(go.Indicator(\n",
    "    mode = \"delta\",\n",
    "    delta= {\n",
    "        'reference': test_df['mean'].tolist()[0], \n",
    "        'relative':True,\n",
    "        'increasing': {\n",
    "            'color':'#FF4136'\n",
    "        },\n",
    "        'decreasing': {\n",
    "            'color': '#3D9970'\n",
    "        },\n",
    "        'font':{\n",
    "            'size' : 22\n",
    "        }\n",
    "    },\n",
    "    value = test_df['mean'].tolist()[-1],\n",
    "    ),\n",
    "    row=1,\n",
    "    col=2\n",
    ")\n",
    "\n",
    "if test_df['mean'].tolist()[-1]>1:\n",
    "    val = 'CRITICAL'\n",
    "    col = 'red'\n",
    "elif (test_df['mean'].tolist()[-1])>0.6:\n",
    "    val = 'MEDIUM'\n",
    "    col = 'orange'\n",
    "else:\n",
    "    val = 'LOW'\n",
    "    col = 'green'\n",
    "\n",
    "fig.add_trace(go.Indicator(\n",
    "    mode = \"number\",\n",
    "    delta= {\n",
    "        'reference': test_df['mean'].tolist()[0], \n",
    "        'relative':True,\n",
    "        'increasing': {\n",
    "            'color':'#FF4136'\n",
    "        },\n",
    "        'decreasing': {\n",
    "            'color': '#3D9970'\n",
    "        }\n",
    "    },\n",
    "    value = test_df['mean'].tolist()[-1],\n",
    "    number={\n",
    "        'valueformat':'0.3f',\n",
    "        'prefix' : r'$\\textbf{'+val+'}$',\n",
    "        'font':{\n",
    "            'color': col,\n",
    "            'size':30\n",
    "        }\n",
    "    }\n",
    "    #title = {'text': \"Speed\"},\n",
    "    #domain = {'x': [0, 1], 'y': [0, 1]}\n",
    "    ),\n",
    "    row=1,\n",
    "    col=3\n",
    ")\n",
    "# fig.update_traces(layout=dict(paper_bgcolor=\"RoyalBlue\"),\n",
    "#                   col=1,row=1)\n",
    "\n",
    "fig.update_layout(showlegend=False, title_text=\"\", width=900, height=600)\n",
    "fig.show()"
   ]
  },
  {
   "cell_type": "code",
   "execution_count": null,
   "metadata": {},
   "outputs": [],
   "source": []
  }
 ],
 "metadata": {
  "kernelspec": {
   "display_name": "Python 3",
   "language": "python",
   "name": "python3"
  },
  "language_info": {
   "codemirror_mode": {
    "name": "ipython",
    "version": 3
   },
   "file_extension": ".py",
   "mimetype": "text/x-python",
   "name": "python",
   "nbconvert_exporter": "python",
   "pygments_lexer": "ipython3",
   "version": "3.6.10"
  },
  "toc": {
   "nav_menu": {},
   "number_sections": true,
   "sideBar": true,
   "skip_h1_title": false,
   "title_cell": "Table of Contents",
   "title_sidebar": "Contents",
   "toc_cell": false,
   "toc_position": {},
   "toc_section_display": true,
   "toc_window_display": false
  }
 },
 "nbformat": 4,
 "nbformat_minor": 4
}
