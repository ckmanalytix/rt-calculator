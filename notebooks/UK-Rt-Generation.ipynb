{
 "cells": [
  {
   "cell_type": "code",
   "execution_count": null,
   "metadata": {},
   "outputs": [],
   "source": [
    "import plotly.express as px\n",
    "import numpy as np\n",
    "import pandas as pd\n",
    "\n",
    "import pymc3 as pm\n",
    "import theano\n",
    "import theano.tensor as tt\n",
    "import theano.tensor.slinalg\n",
    "\n",
    "import matplotlib.pyplot as plt \n",
    "\n",
    "from urllib.request import urlopen\n",
    "import json\n",
    "\n",
    "import geopandas\n",
    "import ast\n",
    "\n",
    "import os\n",
    "\n",
    "import sys\n",
    "sys.path.append('../src/')\n",
    "\n",
    "from utils.ckm_plotting import plot_rt, gen_dropdown\n",
    "from utils.state_abbreviations import state_abbr_map, state_abbr_map_r\n",
    "\n",
    "from generate_rt import create_case_pop_df\n",
    "from generate_rt import calc_p_delay, confirmed_to_onset, adjust_onset_for_right_censorship\n",
    "from generate_rt import MCMCModel\n",
    "\n",
    "import gc\n",
    "\n",
    "from generate_rt import df_from_model, create_and_run_model, regional_rt_model\n",
    "\n",
    "%load_ext autoreload\n",
    "%autoreload 2\n",
    "%matplotlib inline"
   ]
  },
  {
   "cell_type": "code",
   "execution_count": null,
   "metadata": {},
   "outputs": [],
   "source": [
    "from src.utils.p_delay_default import P_DELAY"
   ]
  },
  {
   "cell_type": "code",
   "execution_count": null,
   "metadata": {},
   "outputs": [],
   "source": [
    "from src.utils.load_data import load_uk_population_df\n",
    "from src.utils.load_data import load_uk_confirmed_cases_df"
   ]
  },
  {
   "cell_type": "code",
   "execution_count": null,
   "metadata": {},
   "outputs": [],
   "source": [
    "import geopandas as gp"
   ]
  },
  {
   "cell_type": "code",
   "execution_count": null,
   "metadata": {},
   "outputs": [],
   "source": [
    "uk_cases_df = load_uk_confirmed_cases_df()\n",
    "uk_cases_df = uk_cases_df.rename(columns={'areaName':'county'})\n",
    "uk_cases_df.head()"
   ]
  },
  {
   "cell_type": "code",
   "execution_count": null,
   "metadata": {},
   "outputs": [],
   "source": [
    "mapping_df = pd.read_csv('../data/uk/ulta_region_mapping.csv')\n",
    "ltla_region_map = mapping_df[['LAD18CD','RGN18NM']].drop_duplicates().set_index('LAD18CD').to_dict()['RGN18NM']\n",
    "mapping_df.head()"
   ]
  },
  {
   "cell_type": "code",
   "execution_count": null,
   "metadata": {},
   "outputs": [],
   "source": [
    "uk_cases_df['State'] = uk_cases_df['areaCode'].map(ltla_region_map)\n",
    "\n",
    "uk_cases_df = uk_cases_df.rename(columns={'specimenDate':'date'})\n",
    "\n",
    "uk_cases_df['date'] = pd.to_datetime(uk_cases_df['date'])"
   ]
  },
  {
   "cell_type": "code",
   "execution_count": null,
   "metadata": {},
   "outputs": [],
   "source": [
    "uk_pop_df = load_uk_population_df(population_df_path='../data/uk/population.xls')\n",
    "uk_pop_df.head()"
   ]
  },
  {
   "cell_type": "code",
   "execution_count": null,
   "metadata": {},
   "outputs": [],
   "source": [
    "pop_fips_col = 'areaCode'\n",
    "case_fips_col = 'areaCode'\n",
    "\n",
    "case_county_col = 'county'\n",
    "case_state_col = 'State'\n",
    "\n",
    "cum_cases_col = 'totalLabConfirmedCases'\n",
    "date_col = 'date'\n",
    "\n",
    "cases_pop_df = pd.merge(\n",
    "        left=uk_cases_df,\n",
    "        right=uk_pop_df.rename(columns={pop_fips_col:case_fips_col}),\n",
    "        left_on=case_fips_col,\n",
    "        right_on=case_fips_col,\n",
    "        how='left'\n",
    "    ).drop_duplicates()\n",
    "\n",
    "\n",
    "cases_pop_df['County_State'] = cases_pop_df[case_county_col].str.title()\\\n",
    "            + ' ' + cases_pop_df[case_state_col].str.upper()\n",
    "# cases_pop_df['active_cases'] = cases_pop_df['cases'] - cases_pop_df['cases'].shift(14).fillna(0)\n",
    "# cases_pop_df['new_cases'] = cases_pop_df['cases'].diff()\n",
    "\n",
    "##############################################################\n",
    "\n",
    "\n",
    "append_list = []\n",
    "for n, g in cases_pop_df.groupby('County_State'):\n",
    "    g.sort_values(date_col, inplace=True)\n",
    "    g['new_cases'] = g[cum_cases_col].diff().rolling(7,\n",
    "        win_type='gaussian',\n",
    "        min_periods=1,\n",
    "        center=True).mean(std=2).round()\n",
    "    g['active_cases'] = g[cum_cases_col] - g[cum_cases_col].shift(14).fillna(0)\n",
    "    append_list.append(g)\n",
    "cases_pop_df = pd.concat(append_list)\n"
   ]
  },
  {
   "cell_type": "code",
   "execution_count": null,
   "metadata": {},
   "outputs": [],
   "source": [
    "cases_pop_df[case_state_col] = cases_pop_df[case_state_col].str.upper()"
   ]
  },
  {
   "cell_type": "code",
   "execution_count": null,
   "metadata": {},
   "outputs": [],
   "source": [
    "cases_pop_df.head()"
   ]
  },
  {
   "cell_type": "code",
   "execution_count": null,
   "metadata": {},
   "outputs": [],
   "source": [
    "FILTERED_STATES = cases_pop_df['State'].unique().tolist()[:10]\n",
    "\n",
    "agg_level = 'County_State'\n",
    "\n",
    "OUTPUT_PATH = '../../DATA/UK/'\n",
    "\n",
    "label = 'county'\n",
    "\n",
    "if not os.path.exists(OUTPUT_PATH):\n",
    "        os.mkdir(OUTPUT_PATH)\n",
    "\n",
    "err_list_overall = []\n",
    "for i, STATE in enumerate(FILTERED_STATES):\n",
    "    \n",
    "        print (f'{STATE} : {i+1} of {len(FILTERED_STATES)} states...')\n",
    "        subset_df = cases_pop_df[cases_pop_df['State'] == STATE]\n",
    "\n",
    "        print(f'DEBUGGING: {subset_df.shape}')\n",
    "        if (subset_df.shape[0]) == 0:\n",
    "            err_list_overall.append(STATE)\n",
    "            print (f'{STATE} appears to be missing from the data set.')\n",
    "\n",
    "        results, err_list = regional_rt_model(subset_df, \n",
    "                case_col='new_cases', \n",
    "                region_col=agg_level,\n",
    "                output_path=OUTPUT_PATH + f'rt_{label}_{STATE}.csv'\n",
    "                )\n",
    "\n",
    "        err_list_overall = err_list_overall + err_list\n"
   ]
  },
  {
   "cell_type": "code",
   "execution_count": null,
   "metadata": {},
   "outputs": [],
   "source": [
    "ncols = 4\n",
    "nrows = int(np.ceil(results.index.levels[0].shape[0] / ncols))\n",
    "\n",
    "fig, axes = plt.subplots(\n",
    "    nrows=nrows,\n",
    "    ncols=ncols,\n",
    "    figsize=(14, nrows*3),\n",
    "    sharey='row')\n",
    "\n",
    "for ax, (county_state, result) in zip(axes.flat, results.groupby('region')):\n",
    "    plot_rt(county_state, result.droplevel(0), ax)\n",
    "\n",
    "fig.tight_layout()\n",
    "fig.set_facecolor('w')"
   ]
  },
  {
   "cell_type": "code",
   "execution_count": null,
   "metadata": {},
   "outputs": [],
   "source": [
    "rt_county_df = pd.concat([pd.read_csv(OUTPUT_PATH+f) for f in os.listdir(OUTPUT_PATH) if 'rt_county_' in f], ignore_index=True)\n",
    "for col in ['areaCode', 'State']:\n",
    "    region_code_map = cases_pop_df[['County_State',col]].set_index('County_State').to_dict()[col]\n",
    "    rt_county_df[col] = rt_county_df['region'].map(region_code_map)\n",
    "\n",
    "rt_county_df['state'] = rt_county_df['State'].apply(lambda x: '_'.join(x.split()))\n",
    "# rt_county_df['date'] = pd.to_datetime(rt_county_df['date'], errors='coerce')\n",
    "rt_county_df = rt_county_df.rename(columns={'areaCode':'countyFIPS'})\n",
    "rt_county_df.to_csv('../../DATA/UK/rt_county.csv')\n",
    "\n",
    "rt_county_df.head()"
   ]
  },
  {
   "cell_type": "markdown",
   "metadata": {},
   "source": [
    "# Rt Plots"
   ]
  },
  {
   "cell_type": "code",
   "execution_count": null,
   "metadata": {},
   "outputs": [],
   "source": [
    "SAMPLE_FREQUENCY = 7# in days\n",
    "DATE_SUBSET = [date for i, date in enumerate(np.sort(rt_county_df.date.unique().tolist())) if i%SAMPLE_FREQUENCY==0]"
   ]
  },
  {
   "cell_type": "code",
   "execution_count": null,
   "metadata": {},
   "outputs": [],
   "source": [
    "import ast\n",
    "\n",
    "fips_col = 'lad19cd'\n",
    "ltlas_df = gp.read_file('https://c19pub.azureedge.net/assets/geo/ltlas_v1.geojson')\n",
    "ltlas_df = ltlas_df.rename(columns={fips_col:'id'})\n",
    "ltlas_df.head()"
   ]
  },
  {
   "cell_type": "code",
   "execution_count": null,
   "metadata": {},
   "outputs": [],
   "source": [
    "ckm_color_palette = [\n",
    "    'rgb(208,209,230)',\n",
    "    'rgb(232,189,233)',\n",
    "    'rgb(222,159,223)',\n",
    "    'rgb(202,100,204)',\n",
    "    'rgb(168,56,170)',\n",
    "    'rgb(138,46,140)',\n",
    "    'rgb(124,41,125)',\n",
    "    'rgb(109,36,111)',\n",
    "    'rgb(95,32,96)',\n",
    "    'rgb(66,22,66)',\n",
    "    'rgb(51,17,52)',\n",
    "]\n",
    "\n",
    "color_palette = ckm_color_palette\n",
    "\n",
    "custom_color_scale = []\n",
    "for i,colors in enumerate(color_palette):\n",
    "    custom_color_scale += [[i/len(color_palette), colors]]\n",
    "    custom_color_scale += [[(i+1)/len(color_palette), colors]]"
   ]
  },
  {
   "cell_type": "code",
   "execution_count": null,
   "metadata": {
    "scrolled": false
   },
   "outputs": [],
   "source": [
    "#rt_county_df['date'] = pd.to_datetime(rt_county_df['date'], format=\"%Y-%m-%d\",errors='coerce')\n",
    "fig = px.choropleth(\n",
    "    data_frame=rt_county_df,#[(rt_county_df['date']==rt_county_df['date'].max())],\n",
    "    locations='countyFIPS',\n",
    "    geojson=ast.literal_eval(ltlas_df.to_json()),\n",
    "    hover_name='region',\n",
    "    animation_frame='date',\n",
    "    featureidkey='properties.id',\n",
    "    color='mean',\n",
    "    color_continuous_scale=custom_color_scale\n",
    "\n",
    ")\n",
    "\n",
    "fig.update_geos(fitbounds=\"locations\", visible=False)\n",
    "fig.update_layout(margin={\"r\":0,\"t\":0,\"l\":0,\"b\":0})\n",
    "fig.show()"
   ]
  },
  {
   "cell_type": "code",
   "execution_count": null,
   "metadata": {},
   "outputs": [],
   "source": [
    "rt_county_df.date.head()"
   ]
  },
  {
   "cell_type": "code",
   "execution_count": null,
   "metadata": {},
   "outputs": [],
   "source": [
    "len(rt_county_df['date'].unique().tolist())"
   ]
  },
  {
   "cell_type": "code",
   "execution_count": null,
   "metadata": {},
   "outputs": [],
   "source": [
    "ltlas_df..apply(lambda x: type(x)).value_counts(1,dropna=False)"
   ]
  },
  {
   "cell_type": "code",
   "execution_count": null,
   "metadata": {},
   "outputs": [],
   "source": [
    "rt_county_df.region.apply(lambda x: type(x)).value_counts(1,dropna=False)"
   ]
  },
  {
   "cell_type": "code",
   "execution_count": null,
   "metadata": {},
   "outputs": [],
   "source": [
    "uk_cases_df.county.unique().tolist()"
   ]
  },
  {
   "cell_type": "code",
   "execution_count": null,
   "metadata": {},
   "outputs": [],
   "source": [
    "import requests\n",
    "\n",
    "cdf = requests.get('https://coronavirus.data.gov.uk/downloads/json/coronavirus-cases_latest.json').json()"
   ]
  },
  {
   "cell_type": "code",
   "execution_count": null,
   "metadata": {},
   "outputs": [],
   "source": [
    "rt_county_df.head()"
   ]
  },
  {
   "cell_type": "code",
   "execution_count": null,
   "metadata": {},
   "outputs": [],
   "source": [
    "pd.DataFrame(cdf['countries']).areaName.value_counts(1)"
   ]
  },
  {
   "cell_type": "code",
   "execution_count": null,
   "metadata": {
    "scrolled": true
   },
   "outputs": [],
   "source": [
    "test_df = pd.read_json('https://c19downloads.azureedge.net/downloads/data/countries_latest.json', orient='index')\n",
    "test_df.head()"
   ]
  },
  {
   "cell_type": "code",
   "execution_count": null,
   "metadata": {},
   "outputs": [],
   "source": [
    "q = requests.get('https://c19downloads.azureedge.net/downloads/data/countries_latest.json')\n",
    "q.json()['']"
   ]
  },
  {
   "cell_type": "code",
   "execution_count": null,
   "metadata": {
    "scrolled": true
   },
   "outputs": [],
   "source": [
    "ast.literal_eval(q.json()['S92000003'] )"
   ]
  },
  {
   "cell_type": "code",
   "execution_count": null,
   "metadata": {},
   "outputs": [],
   "source": [
    "gp.read_file('https://c19downloads.azureedge.net/downloads/data/countries_latest.json')"
   ]
  },
  {
   "cell_type": "code",
   "execution_count": null,
   "metadata": {},
   "outputs": [],
   "source": [
    "'''\n",
    "- ``'split'`` : dict like\n",
    "      ``{index -> [index], columns -> [columns], data -> [values]}``\n",
    "    - ``'records'`` : list like\n",
    "      ``[{column -> value}, ... , {column -> value}]``\n",
    "    - ``'index'`` : dict like ``{index -> {column -> value}}``\n",
    "    - ``'columns'`` : dict like ``{column -> {index -> value}}``\n",
    "    - ``'values'`` : just the values array'''"
   ]
  },
  {
   "cell_type": "code",
   "execution_count": null,
   "metadata": {},
   "outputs": [],
   "source": [
    "from utils.rt_plotting import map_rt\n",
    "from tqdm import tqdm"
   ]
  },
  {
   "cell_type": "code",
   "execution_count": null,
   "metadata": {},
   "outputs": [],
   "source": [
    "from utils.rt_plotting import animate_state, animate_country"
   ]
  },
  {
   "cell_type": "code",
   "execution_count": null,
   "metadata": {},
   "outputs": [],
   "source": [
    "SAMPLE_FREQUENCY = 7# in days\n",
    "DATE_SUBSET = [date for i, date in \\\n",
    "    enumerate(np.sort(rt_county_df.date.unique().tolist())) if i%SAMPLE_FREQUENCY==0]\n",
    "OUTPUT_DIR = '../output/'\n",
    "COUNTRY_NAME = 'UK'\n",
    "print (\"Creating Country Plots....\")\n",
    "## Country Map\n",
    "COUNTRY_DIR = OUTPUT_DIR+f'{COUNTRY_NAME}/country/'\n",
    "if not os.path.exists(COUNTRY_DIR):\n",
    "    os.mkdir(COUNTRY_DIR)\n",
    "\n",
    "for l in ['state','county']:\n",
    "\n",
    "\n",
    "    fig = animate_country(\n",
    "                    # state=st, \n",
    "                    data_df=rt_county_df,\n",
    "                    geojson_df=ltlas_df,\n",
    "                    disp_col='mean',\n",
    "                    date_list=DATE_SUBSET,\n",
    "                    animate=False,\n",
    "                    save_path=COUNTRY_DIR+f'country_{l}_static.html',\n",
    "                    scope=None\n",
    "                )\n",
    "# fig.update_geos(fitbounds=\"locations\", visible=False)\n",
    "fig.update_layout(margin={\"r\":0,\"t\":0,\"l\":0,\"b\":0})\n",
    "fig.show()"
   ]
  },
  {
   "cell_type": "code",
   "execution_count": null,
   "metadata": {},
   "outputs": [],
   "source": [
    "rt_county_df['state'].unique().tolist()"
   ]
  },
  {
   "cell_type": "code",
   "execution_count": null,
   "metadata": {},
   "outputs": [],
   "source": [
    "# rt_test = pd.read_csv('../data/rt_county/rt_county.csv')\n",
    "rt_test = pd.read_csv('../../DATA/UK/rt_county.csv')\n",
    "rt_test.head()"
   ]
  },
  {
   "cell_type": "code",
   "execution_count": null,
   "metadata": {},
   "outputs": [],
   "source": [
    "rt_test.date.apply(lambda x: len(x)).unique().tolist()"
   ]
  },
  {
   "cell_type": "code",
   "execution_count": null,
   "metadata": {},
   "outputs": [],
   "source": [
    "list(cases_pop_df.groupby(['State']).County_State.nunique().to_dict().keys())"
   ]
  },
  {
   "cell_type": "code",
   "execution_count": null,
   "metadata": {},
   "outputs": [],
   "source": []
  }
 ],
 "metadata": {
  "kernelspec": {
   "display_name": "Python 3",
   "language": "python",
   "name": "python3"
  },
  "language_info": {
   "codemirror_mode": {
    "name": "ipython",
    "version": 3
   },
   "file_extension": ".py",
   "mimetype": "text/x-python",
   "name": "python",
   "nbconvert_exporter": "python",
   "pygments_lexer": "ipython3",
   "version": "3.6.10"
  },
  "toc": {
   "nav_menu": {},
   "number_sections": true,
   "sideBar": true,
   "skip_h1_title": false,
   "title_cell": "Table of Contents",
   "title_sidebar": "Contents",
   "toc_cell": false,
   "toc_position": {},
   "toc_section_display": true,
   "toc_window_display": false
  }
 },
 "nbformat": 4,
 "nbformat_minor": 4
}
